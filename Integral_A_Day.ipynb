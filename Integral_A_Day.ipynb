{
 "cells": [
  {
   "cell_type": "code",
   "execution_count": 48,
   "metadata": {},
   "outputs": [],
   "source": [
    "import numpy as np\n",
    "import scipy as sci\n",
    "import scipy.constants as con\n",
    "from datetime import datetime\n",
    "import random as random\n",
    "from fractions import Fraction\n",
    "import sympy as sp\n",
    "from IPython.display import display, Math"
   ]
  },
  {
   "cell_type": "code",
   "execution_count": 49,
   "metadata": {},
   "outputs": [
    {
     "name": "stdout",
     "output_type": "stream",
     "text": [
      "7\n"
     ]
    }
   ],
   "source": [
    "genesis = datetime(2025, 5, 9)\n",
    "today = datetime.now()\n",
    "time_difference = today - genesis\n",
    "print(time_difference.days)\n",
    "#Assings an integer to today's date.\n"
   ]
  },
  {
   "cell_type": "code",
   "execution_count": null,
   "metadata": {},
   "outputs": [],
   "source": [
    "#The randomly generated seed associated with each successive day since genesis \n",
    "# [int_seed, variable, low_bound/high_bound, coefficient1, coefficient2]\n",
    "seeds = [3,0.7,0.7,0.7,0.7] "
   ]
  },
  {
   "cell_type": "code",
   "execution_count": 74,
   "metadata": {},
   "outputs": [],
   "source": [
    "lower = []\n",
    "upper = []\n",
    "a = []\n",
    "integrand = 0\n",
    "\n",
    "x = sp.Symbol('x')"
   ]
  },
  {
   "cell_type": "code",
   "execution_count": 75,
   "metadata": {},
   "outputs": [],
   "source": [
    "#General Gaussian \n",
    "\n",
    "if seeds[0] == 1:\n",
    "\n",
    "    #Bounds\n",
    "    bins = [0.1, 0.2, 0.3, 0.4, 0.5, 0.6, 0.7, 0.8, 0.9]\n",
    "    lower_opt = [-sp.pi, 0, 0, -1, -2, 0, 0 , -1, -2, -sp.pi]\n",
    "    upper_opt = [2*sp.pi, 1, 2, 1, 2, 2, 0.1, 2, 3, sp.pi]\n",
    "    for i in range(9):\n",
    "        if seeds[3] == bins[i]:\n",
    "                lower_var = lower_opt[i]\n",
    "                lower = float(lower_var)\n",
    "                print(lower)\n",
    "                upper = upper_opt[i]\n",
    "                upper = float(upper)\n",
    "                print(upper)\n",
    "\n",
    "    #coefficient1\n",
    "    a_opt = [1, 1, 1.1, sp.pi, 2*sp.pi, 2, 3, 1, 2.1, 0.2]\n",
    "    for i in range(9):\n",
    "        if seeds[4] == bins[i]:\n",
    "                a = a_opt[i]\n",
    "                a = float(a)\n",
    "\n",
    "    print(a)\n",
    "\n",
    "    x,y,z,w,p,m,n,k,q,u = sp.Symbol('x'), sp.Symbol('y'), sp.Symbol('z'), sp.Symbol('w'), sp.Symbol('p'), sp.Symbol('m'), sp.Symbol('n'), sp.Symbol('k'), sp.Symbol('q'), sp.Symbol('n')\n",
    "    var_opt = [x, y, z, w, p, m, n, k, q, u]\n",
    "    for i in range(9):\n",
    "        if seeds[1]==bins[i]:\n",
    "            new_var = var_opt[i]\n",
    "\n",
    "    integrand = new_var**2 * sp.exp(-new_var**2 / a**2)\n",
    "    integrand = sp.nsimplify(integrand, rational=True)\n",
    "\n"
   ]
  },
  {
   "cell_type": "code",
   "execution_count": 76,
   "metadata": {},
   "outputs": [],
   "source": [
    "#Trig Sin\n",
    "\n",
    "if seeds[0] == 2:\n",
    "\n",
    "    #Bounds\n",
    "    bins = [0.1, 0.2, 0.3, 0.4, 0.5, 0.6, 0.7, 0.8, 0.9]\n",
    "    lower_opt = [-sp.pi, 0, 0, -1, -2, 0, 0 , -1, -2, -sp.pi]\n",
    "    upper_opt = [2*sp.pi, 1, 2, 1, 2, 2, 0.1, 2, 3, sp.pi]\n",
    "    for i in range(9):\n",
    "        if seeds[3] == bins[i]:\n",
    "                lower_var = lower_opt[i]\n",
    "                lower = float(lower_var)\n",
    "                print(lower)\n",
    "                upper = upper_opt[i]\n",
    "                upper = float(upper)\n",
    "                print(upper)\n",
    "\n",
    "    #coefficient1\n",
    "    a_opt = [1, 1, 1.1, sp.pi, 2*sp.pi, 2, 3, 1, 2.1, 0.2]\n",
    "    for i in range(9):\n",
    "        if seeds[4] == bins[i]:\n",
    "                a = a_opt[i]\n",
    "                a = float(a)\n",
    "\n",
    "    print(a)\n",
    "\n",
    "    x,y,z,w,p,m,n,k,q,u = sp.Symbol('x'), sp.Symbol('y'), sp.Symbol('z'), sp.Symbol('w'), sp.Symbol('p'), sp.Symbol('m'), sp.Symbol('n'), sp.Symbol('k'), sp.Symbol('q'), sp.Symbol('n')\n",
    "    var_opt = [x, y, z, w, p, m, n, k, q, u]\n",
    "    for i in range(9):\n",
    "        if seeds[1]==bins[i]:\n",
    "            new_var = var_opt[i]\n",
    "\n",
    "    integrand = new_var * sp.sin(a * new_var)\n",
    "    integrand = sp.nsimplify(integrand, rational=True)"
   ]
  },
  {
   "cell_type": "code",
   "execution_count": 77,
   "metadata": {},
   "outputs": [
    {
     "name": "stdout",
     "output_type": "stream",
     "text": [
      "0.0\n",
      "0.1\n",
      "3.0\n"
     ]
    }
   ],
   "source": [
    "#Trig Cos\n",
    "\n",
    "if seeds[0] == 3:\n",
    "\n",
    "    #Bounds\n",
    "    bins = [0.1, 0.2, 0.3, 0.4, 0.5, 0.6, 0.7, 0.8, 0.9]\n",
    "    lower_opt = [-sp.pi, 0, 0, -1, -2, 0, 0 , -1, -2, -sp.pi]\n",
    "    upper_opt = [2*sp.pi, 1, 2, 1, 2, 2, 0.1, 2, 3, sp.pi]\n",
    "    for i in range(9):\n",
    "        if seeds[3] == bins[i]:\n",
    "                lower_var = lower_opt[i]\n",
    "                lower = float(lower_var)\n",
    "                print(lower)\n",
    "                upper = upper_opt[i]\n",
    "                upper = float(upper)\n",
    "                print(upper)\n",
    "\n",
    "    #coefficient1\n",
    "    a_opt = [1, 1, 1.1, sp.pi, 2*sp.pi, 2, 3, 1, 2.1, 0.2]\n",
    "    for i in range(9):\n",
    "        if seeds[4] == bins[i]:\n",
    "                a = a_opt[i]\n",
    "                a = float(a)\n",
    "\n",
    "    print(a)\n",
    "\n",
    "    x,y,z,w,p,m,n,k,q,u = sp.Symbol('x'), sp.Symbol('y'), sp.Symbol('z'), sp.Symbol('w'), sp.Symbol('p'), sp.Symbol('m'), sp.Symbol('n'), sp.Symbol('k'), sp.Symbol('q'), sp.Symbol('n')\n",
    "    var_opt = [x, y, z, w, p, m, n, k, q, u]\n",
    "    for i in range(9):\n",
    "        if seeds[1]==bins[i]:\n",
    "            new_var = var_opt[i]\n",
    "\n",
    "    integrand = new_var * sp.cos(a * new_var)\n",
    "    integrand = sp.nsimplify(integrand, rational=True)"
   ]
  },
  {
   "cell_type": "code",
   "execution_count": null,
   "metadata": {},
   "outputs": [
    {
     "name": "stdout",
     "output_type": "stream",
     "text": [
      "0.0\n",
      "0.1\n",
      "3.0\n"
     ]
    }
   ],
   "source": [
    "#Gaussian2\n",
    "\n",
    "if seeds[0] == 4:\n",
    "\n",
    "    #Bounds\n",
    "    bins = [0.1, 0.2, 0.3, 0.4, 0.5, 0.6, 0.7, 0.8, 0.9]\n",
    "    lower_opt = [-sp.pi, 0, 0, -1, -2, 0, 0 , -1, -2, -sp.pi]\n",
    "    upper_opt = [2*sp.pi, 1, 2, 1, 2, 2, 0.1, 2, 3, sp.pi]\n",
    "    for i in range(9):\n",
    "        if seeds[3] == bins[i]:\n",
    "                lower_var = lower_opt[i]\n",
    "                lower = float(lower_var)\n",
    "                print(lower)\n",
    "                upper = upper_opt[i]\n",
    "                upper = float(upper)\n",
    "                print(upper)\n",
    "\n",
    "    #coefficient1\n",
    "    a_opt = [1, 1, 1.1, sp.pi, 2*sp.pi, 2, 3, 1, 2.1, 0.2]\n",
    "    for i in range(9):\n",
    "        if seeds[4] == bins[i]:\n",
    "                a = a_opt[i]\n",
    "                a = float(a)\n",
    "\n",
    "    #coefficient2\n",
    "    b_opt = [1, 1, 1.1, sp.pi, 2*sp.pi, 2, 3, 1, 2.1, 0.2]\n",
    "    for i in range(9):\n",
    "        if seeds[4] == bins[i]:\n",
    "                b = b_opt[i]\n",
    "                b = float(b)\n",
    "\n",
    "    print(b)\n",
    "\n",
    "    x,y,z,w,p,m,n,k,q,u = sp.Symbol('x'), sp.Symbol('y'), sp.Symbol('z'), sp.Symbol('w'), sp.Symbol('p'), sp.Symbol('m'), sp.Symbol('n'), sp.Symbol('k'), sp.Symbol('q'), sp.Symbol('n')\n",
    "    var_opt = [x, y, z, w, p, m, n, k, q, u]\n",
    "    for i in range(9):\n",
    "        if seeds[1]==bins[i]:\n",
    "            new_var = var_opt[i]\n",
    "\n",
    "    integrand = new_var**b * sp.exp(-new_var / a)\n",
    "    integrand = sp.nsimplify(integrand, rational=True)"
   ]
  },
  {
   "cell_type": "code",
   "execution_count": null,
   "metadata": {},
   "outputs": [],
   "source": [
    "#Gaussian3\n",
    "\n",
    "if seeds[0] == 5:\n",
    "\n",
    "    #Bounds\n",
    "    bins = [0.1, 0.2, 0.3, 0.4, 0.5, 0.6, 0.7, 0.8, 0.9]\n",
    "    lower_opt = [-sp.pi, 0, 0, -1, -2, 0, 0 , -1, -2, -sp.pi]\n",
    "    upper_opt = [2*sp.pi, 1, 2, 1, 2, 2, 0.1, 2, 3, sp.pi]\n",
    "    for i in range(9):\n",
    "        if seeds[3] == bins[i]:\n",
    "                lower_var = lower_opt[i]\n",
    "                lower = float(lower_var)\n",
    "                print(lower)\n",
    "                upper = upper_opt[i]\n",
    "                upper = float(upper)\n",
    "                print(upper)\n",
    "\n",
    "    #coefficient1\n",
    "    a_opt = [1, 1, 1.1, sp.pi, 2*sp.pi, 2, 3, 1, 2.1, 0.2]\n",
    "    for i in range(9):\n",
    "        if seeds[4] == bins[i]:\n",
    "                a = a_opt[i]\n",
    "                a = float(a)\n",
    "\n",
    "    #coefficient2\n",
    "    b_opt = [1, 1, 1.1, sp.pi, 2*sp.pi, 2, 3, 1, 2.1, 0.2]\n",
    "    for i in range(9):\n",
    "        if seeds[4] == bins[i]:\n",
    "                b = b_opt[i]\n",
    "                b = float(b)\n",
    "\n",
    "    print(b)\n",
    "\n",
    "    x,y,z,w,p,m,n,k,q,u = sp.Symbol('x'), sp.Symbol('y'), sp.Symbol('z'), sp.Symbol('w'), sp.Symbol('p'), sp.Symbol('m'), sp.Symbol('n'), sp.Symbol('k'), sp.Symbol('q'), sp.Symbol('n')\n",
    "    var_opt = [x, y, z, w, p, m, n, k, q, u]\n",
    "    for i in range(9):\n",
    "        if seeds[1]==bins[i]:\n",
    "            new_var = var_opt[i]\n",
    "\n",
    "    integrand = new_var**(2*b) * sp.exp**(-new_var**2 / a**2)\n",
    "    integrand = sp.nsimplify(integrand, rational=True)"
   ]
  },
  {
   "cell_type": "code",
   "execution_count": null,
   "metadata": {},
   "outputs": [
    {
     "name": "stdout",
     "output_type": "stream",
     "text": [
      "0.0\n",
      "0.1\n",
      "3.0\n"
     ]
    }
   ],
   "source": [
    "#Gaussian4\n",
    "\n",
    "if seeds[0] == 6:\n",
    "\n",
    "    #Bounds\n",
    "    bins = [0.1, 0.2, 0.3, 0.4, 0.5, 0.6, 0.7, 0.8, 0.9]\n",
    "    lower_opt = [-sp.pi, 0, 0, -1, -2, 0, 0 , -1, -2, -sp.pi]\n",
    "    upper_opt = [2*sp.pi, 1, 2, 1, 2, 2, 0.1, 2, 3, sp.pi]\n",
    "    for i in range(9):\n",
    "        if seeds[3] == bins[i]:\n",
    "                lower_var = lower_opt[i]\n",
    "                lower = float(lower_var)\n",
    "                print(lower)\n",
    "                upper = upper_opt[i]\n",
    "                upper = float(upper)\n",
    "                print(upper)\n",
    "\n",
    "    #coefficient1\n",
    "    a_opt = [1, 1, 1.1, sp.pi, 2*sp.pi, 2, 3, 1, 2.1, 0.2]\n",
    "    for i in range(9):\n",
    "        if seeds[4] == bins[i]:\n",
    "                a = a_opt[i]\n",
    "                a = float(a)\n",
    "\n",
    "    #coefficient2\n",
    "    b_opt = [1, 1, 1.1, sp.pi, 2*sp.pi, 2, 3, 1, 2.1, 0.2]\n",
    "    for i in range(9):\n",
    "        if seeds[4] == bins[i]:\n",
    "                b = b_opt[i]\n",
    "                b = float(b)\n",
    "\n",
    "    print(b)\n",
    "\n",
    "    x,y,z,w,p,m,n,k,q,u = sp.Symbol('x'), sp.Symbol('y'), sp.Symbol('z'), sp.Symbol('w'), sp.Symbol('p'), sp.Symbol('m'), sp.Symbol('n'), sp.Symbol('k'), sp.Symbol('q'), sp.Symbol('n')\n",
    "    var_opt = [x, y, z, w, p, m, n, k, q, u]\n",
    "    for i in range(9):\n",
    "        if seeds[1]==bins[i]:\n",
    "            new_var = var_opt[i]\n",
    "\n",
    "    integrand = new_var**((2*b)+1) * sp.exp(-new_var**2 / a**2)\n",
    "    integrand = sp.nsimplify(integrand, rational=True)"
   ]
  },
  {
   "cell_type": "code",
   "execution_count": null,
   "metadata": {},
   "outputs": [
    {
     "name": "stdout",
     "output_type": "stream",
     "text": [
      "0.0\n",
      "0.1\n",
      "3.0\n"
     ]
    }
   ],
   "source": [
    "#sqrt\n",
    "\n",
    "if seeds[0] == 7:\n",
    "\n",
    "    #Bounds\n",
    "    bins = [0.1, 0.2, 0.3, 0.4, 0.5, 0.6, 0.7, 0.8, 0.9]\n",
    "    lower_opt = [-sp.pi, 0, 0, -1, -2, 0, 0 , -1, -2, -sp.pi]\n",
    "    upper_opt = [2*sp.pi, 1, 2, 1, 2, 2, 0.1, 2, 3, sp.pi]\n",
    "    for i in range(9):\n",
    "        if seeds[3] == bins[i]:\n",
    "                lower_var = lower_opt[i]\n",
    "                lower = float(lower_var)\n",
    "                print(lower)\n",
    "                upper = upper_opt[i]\n",
    "                upper = float(upper)\n",
    "                print(upper)\n",
    "\n",
    "    #coefficient1\n",
    "    a_opt = [1, 1, 1.1, sp.pi, 2*sp.pi, 2, 3, 1, 2.1, 0.2]\n",
    "    for i in range(9):\n",
    "        if seeds[4] == bins[i]:\n",
    "                a = a_opt[i]\n",
    "                a = float(a)\n",
    "\n",
    "    #coefficient2\n",
    "    b_opt = [1, 1, 1.1, sp.pi, 2*sp.pi, 2, 3, 1, 2.1, 0.2]\n",
    "    for i in range(9):\n",
    "        if seeds[4] == bins[i]:\n",
    "                b = b_opt[i]\n",
    "                b = float(b)\n",
    "\n",
    "    print(b)\n",
    "\n",
    "    x,y,z,w,p,m,n,k,q,u = sp.Symbol('x'), sp.Symbol('y'), sp.Symbol('z'), sp.Symbol('w'), sp.Symbol('p'), sp.Symbol('m'), sp.Symbol('n'), sp.Symbol('k'), sp.Symbol('q'), sp.Symbol('n')\n",
    "    var_opt = [x, y, z, w, p, m, n, k, q, u]\n",
    "    for i in range(9):\n",
    "        if seeds[1]==bins[i]:\n",
    "            new_var = var_opt[i]\n",
    "\n",
    "    integrand = a/(sp.sqrt(new_var)*(new_var+1))\n",
    "    integrand = sp.nsimplify(integrand, rational=True)"
   ]
  },
  {
   "cell_type": "code",
   "execution_count": null,
   "metadata": {},
   "outputs": [
    {
     "name": "stdout",
     "output_type": "stream",
     "text": [
      "0.0\n",
      "0.1\n",
      "3.0\n"
     ]
    }
   ],
   "source": [
    "#Poly\n",
    "\n",
    "if seeds[0] == 8:\n",
    "\n",
    "    #Bounds\n",
    "    bins = [0.1, 0.2, 0.3, 0.4, 0.5, 0.6, 0.7, 0.8, 0.9]\n",
    "    lower_opt = [-sp.pi, 0, 0, -1, -2, 0, 0 , -1, -2, -sp.pi]\n",
    "    upper_opt = [2*sp.pi, 1, 2, 1, 2, 2, 0.1, 2, 3, sp.pi]\n",
    "    for i in range(9):\n",
    "        if seeds[3] == bins[i]:\n",
    "                lower_var = lower_opt[i]\n",
    "                lower = float(lower_var)\n",
    "                print(lower)\n",
    "                upper = upper_opt[i]\n",
    "                upper = float(upper)\n",
    "                print(upper)\n",
    "\n",
    "    #coefficient1\n",
    "    a_opt = [1, 1, 1.1, sp.pi, 2*sp.pi, 2, 3, 1, 2.1, 0.2]\n",
    "    for i in range(9):\n",
    "        if seeds[4] == bins[i]:\n",
    "                a = a_opt[i]\n",
    "                a = float(a)\n",
    "\n",
    "    #coefficient2\n",
    "    b_opt = [1, 1, 1.1, sp.pi, 2*sp.pi, 2, 3, 1, 2.1, 0.2]\n",
    "    for i in range(9):\n",
    "        if seeds[4] == bins[i]:\n",
    "                b = b_opt[i]\n",
    "                b = float(b)\n",
    "\n",
    "    print(b)\n",
    "\n",
    "    x,y,z,w,p,m,n,k,q,u = sp.Symbol('x'), sp.Symbol('y'), sp.Symbol('z'), sp.Symbol('w'), sp.Symbol('p'), sp.Symbol('m'), sp.Symbol('n'), sp.Symbol('k'), sp.Symbol('q'), sp.Symbol('n')\n",
    "    var_opt = [x, y, z, w, p, m, n, k, q, u]\n",
    "    for i in range(9):\n",
    "        if seeds[1]==bins[i]:\n",
    "            new_var = var_opt[i]\n",
    "\n",
    "    integrand = (new_var**(a+2)*sp.sqrt(2-new_var**a))\n",
    "    integrand = sp.nsimplify(integrand, rational=True)"
   ]
  },
  {
   "cell_type": "code",
   "execution_count": null,
   "metadata": {},
   "outputs": [
    {
     "name": "stdout",
     "output_type": "stream",
     "text": [
      "0.0\n",
      "0.1\n",
      "3.0\n"
     ]
    }
   ],
   "source": [
    "#Poly Rational\n",
    "\n",
    "if seeds[0] == 9:\n",
    "\n",
    "    #Bounds\n",
    "    bins = [0.1, 0.2, 0.3, 0.4, 0.5, 0.6, 0.7, 0.8, 0.9]\n",
    "    lower_opt = [-sp.pi, 0, 0, -1, -2, 0, 0 , -1, -2, -sp.pi]\n",
    "    upper_opt = [2*sp.pi, 1, 2, 1, 2, 2, 0.1, 2, 3, sp.pi]\n",
    "    for i in range(9):\n",
    "        if seeds[3] == bins[i]:\n",
    "                lower_var = lower_opt[i]\n",
    "                lower = float(lower_var)\n",
    "                print(lower)\n",
    "                upper = upper_opt[i]\n",
    "                upper = float(upper)\n",
    "                print(upper)\n",
    "\n",
    "    #coefficient1\n",
    "    a_opt = [1, 1, 1.1, sp.pi, 2*sp.pi, 2, 3, 1, 2.1, 0.2]\n",
    "    for i in range(9):\n",
    "        if seeds[4] == bins[i]:\n",
    "                a = a_opt[i]\n",
    "                a = float(a)\n",
    "\n",
    "    #coefficient2\n",
    "    b_opt = [1, 1, 1.1, sp.pi, 2*sp.pi, 2, 3, 1, 2.1, 0.2]\n",
    "    for i in range(9):\n",
    "        if seeds[4] == bins[i]:\n",
    "                b = b_opt[i]\n",
    "                b = float(b)\n",
    "\n",
    "    print(b)\n",
    "\n",
    "    x,y,z,w,p,m,n,k,q,u = sp.Symbol('x'), sp.Symbol('y'), sp.Symbol('z'), sp.Symbol('w'), sp.Symbol('p'), sp.Symbol('m'), sp.Symbol('n'), sp.Symbol('k'), sp.Symbol('q'), sp.Symbol('n')\n",
    "    var_opt = [x, y, z, w, p, m, n, k, q, u]\n",
    "    for i in range(9):\n",
    "        if seeds[1]==bins[i]:\n",
    "            new_var = var_opt[i]\n",
    "\n",
    "    integrand = a*(new_var**4 + 2*new_var +2)/(new_var**5 + new_var**4)\n",
    "    integrand = sp.nsimplify(integrand, rational=True)"
   ]
  },
  {
   "cell_type": "code",
   "execution_count": null,
   "metadata": {},
   "outputs": [
    {
     "name": "stdout",
     "output_type": "stream",
     "text": [
      "0.0\n",
      "0.1\n",
      "3.0\n"
     ]
    }
   ],
   "source": [
    "#ln\n",
    "\n",
    "if seeds[0] == 10:\n",
    "\n",
    "    #Bounds\n",
    "    bins = [0.1, 0.2, 0.3, 0.4, 0.5, 0.6, 0.7, 0.8, 0.9]\n",
    "    lower_opt = [-sp.pi, 0, 0, -1, -2, 0, 0 , -1, -2, -sp.pi]\n",
    "    upper_opt = [2*sp.pi, 1, 2, 1, 2, 2, 0.1, 2, 3, sp.pi]\n",
    "    for i in range(9):\n",
    "        if seeds[3] == bins[i]:\n",
    "                lower_var = lower_opt[i]\n",
    "                lower = float(lower_var)\n",
    "                print(lower)\n",
    "                upper = upper_opt[i]\n",
    "                upper = float(upper)\n",
    "                print(upper)\n",
    "\n",
    "    #coefficient1\n",
    "    a_opt = [1, 1, 1.1, sp.pi, 2*sp.pi, 2, 3, 1, 2.1, 0.2]\n",
    "    for i in range(9):\n",
    "        if seeds[4] == bins[i]:\n",
    "                a = a_opt[i]\n",
    "                a = float(a)\n",
    "\n",
    "    #coefficient2\n",
    "    b_opt = [1, 1, 1.1, sp.pi, 2*sp.pi, 2, 3, 1, 2.1, 0.2]\n",
    "    for i in range(9):\n",
    "        if seeds[4] == bins[i]:\n",
    "                b = b_opt[i]\n",
    "                b = float(b)\n",
    "\n",
    "    print(b)\n",
    "\n",
    "    x,y,z,w,p,m,n,k,q,u = sp.Symbol('x'), sp.Symbol('y'), sp.Symbol('z'), sp.Symbol('w'), sp.Symbol('p'), sp.Symbol('m'), sp.Symbol('n'), sp.Symbol('k'), sp.Symbol('q'), sp.Symbol('n')\n",
    "    var_opt = [x, y, z, w, p, m, n, k, q, u]\n",
    "    for i in range(9):\n",
    "        if seeds[1]==bins[i]:\n",
    "            new_var = var_opt[i]\n",
    "\n",
    "    integrand = b*(sp.ln(a+new_var))\n",
    "    integrand = sp.nsimplify(integrand, rational=True)"
   ]
  },
  {
   "cell_type": "code",
   "execution_count": 109,
   "metadata": {},
   "outputs": [
    {
     "name": "stdout",
     "output_type": "stream",
     "text": [
      "0.0\n",
      "0.1\n",
      "2.0\n"
     ]
    }
   ],
   "source": [
    "#cos2\n",
    "\n",
    "if seeds[0] == 3:\n",
    "\n",
    "    #Bounds\n",
    "    bins = [0.1, 0.2, 0.3, 0.4, 0.5, 0.6, 0.7, 0.8, 0.9]\n",
    "    lower_opt = [-sp.pi, 0, 0, -1, -2, 0, 0 , -1, -2, -sp.pi]\n",
    "    upper_opt = [2*sp.pi, 1, 2, 1, 2, 2, 0.1, 2, 3, sp.pi]\n",
    "    for i in range(9):\n",
    "        if seeds[3] == bins[i]:\n",
    "                lower_var = lower_opt[i]\n",
    "                lower = float(lower_var)\n",
    "                print(lower)\n",
    "                upper = upper_opt[i]\n",
    "                upper = float(upper)\n",
    "                print(upper)\n",
    "\n",
    "    #coefficient1\n",
    "    a_opt = [1, 1, 1.1, sp.pi, 2*sp.pi, 2, 3, 1, 2.1, 1]\n",
    "    for i in range(9):\n",
    "        if seeds[4] == bins[i]:\n",
    "                a = a_opt[i]\n",
    "                a = float(a)\n",
    "\n",
    "    #coefficient2\n",
    "    b_opt = [2, 1.5, 1, 1, 1, 1, 2, 4, 1, 0.5]\n",
    "    for i in range(9):\n",
    "        if seeds[4] == bins[i]:\n",
    "                b = b_opt[i]\n",
    "                b = float(b)\n",
    "\n",
    "    print(b)\n",
    "\n",
    "    x,y,z,w,p,m,n,k,q,u = sp.Symbol('x'), sp.Symbol('y'), sp.Symbol('z'), sp.Symbol('w'), sp.Symbol('p'), sp.Symbol('m'), sp.Symbol('n'), sp.Symbol('k'), sp.Symbol('q'), sp.Symbol('n')\n",
    "    var_opt = [x, y, z, w, p, m, n, k, q, u]\n",
    "    for i in range(9):\n",
    "        if seeds[1]==bins[i]:\n",
    "            new_var = var_opt[i]\n",
    "\n",
    "    integrand = (a+sp.cos(new_var))/(b-sp.cos(new_var))\n",
    "    integrand = sp.nsimplify(integrand, rational=True)"
   ]
  },
  {
   "cell_type": "code",
   "execution_count": 110,
   "metadata": {},
   "outputs": [
    {
     "data": {
      "text/latex": [
       "$\\displaystyle Solve\\int_{0.0}^{0.1} \\frac{\\cos{\\left(n \\right)} + 3}{2 - \\cos{\\left(n \\right)}}$"
      ],
      "text/plain": [
       "<IPython.core.display.Math object>"
      ]
     },
     "metadata": {},
     "output_type": "display_data"
    },
    {
     "name": "stdout",
     "output_type": "stream",
     "text": [
      "Solution:\n"
     ]
    },
    {
     "data": {
      "text/latex": [
       "$\\displaystyle \\frac{10 \\sqrt{3} \\left(- \\pi + \\operatorname{atan}{\\left(0.0500417083755388 \\sqrt{3} \\right)}\\right)}{3} - 0.1 + \\frac{10 \\sqrt{3} \\pi}{3}$"
      ],
      "text/plain": [
       "<IPython.core.display.Math object>"
      ]
     },
     "metadata": {},
     "output_type": "display_data"
    },
    {
     "name": "stdout",
     "output_type": "stream",
     "text": [
      "0.399169571382946\n"
     ]
    }
   ],
   "source": [
    "def_integral = sp.integrate(integrand, (new_var, lower, upper))\n",
    "\n",
    "latex_expr = \"Solve\" + r\"\\int_{\" + sp.latex(lower) + r\"}^{\" + sp.latex(upper) + r\"} \" + sp.latex(integrand)\n",
    "solution = sp.latex(def_integral)\n",
    "display(Math(latex_expr))\n",
    "print(\"Solution:\"), display(Math(solution))\n",
    "numeric_result = def_integral.evalf()\n",
    "print(numeric_result)"
   ]
  },
  {
   "cell_type": "code",
   "execution_count": null,
   "metadata": {},
   "outputs": [],
   "source": []
  }
 ],
 "metadata": {
  "kernelspec": {
   "display_name": "Python 3",
   "language": "python",
   "name": "python3"
  },
  "language_info": {
   "codemirror_mode": {
    "name": "ipython",
    "version": 3
   },
   "file_extension": ".py",
   "mimetype": "text/x-python",
   "name": "python",
   "nbconvert_exporter": "python",
   "pygments_lexer": "ipython3",
   "version": "3.9.5"
  }
 },
 "nbformat": 4,
 "nbformat_minor": 2
}
